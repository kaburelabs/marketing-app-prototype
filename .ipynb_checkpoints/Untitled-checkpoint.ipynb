{
 "cells": [
  {
   "cell_type": "code",
   "execution_count": 20,
   "metadata": {},
   "outputs": [],
   "source": [
    "import pandas as pd\n",
    "\n",
    "df = pd.read_csv(\"data/datasets_178248_1139908_marketing_campaign.csv\", sep=\";\")"
   ]
  },
  {
   "cell_type": "code",
   "execution_count": 21,
   "metadata": {},
   "outputs": [
    {
     "data": {
      "text/plain": [
       "ID                     2240\n",
       "Year_Birth               59\n",
       "Education                 5\n",
       "Marital_Status            8\n",
       "Income                 1974\n",
       "Kidhome                   3\n",
       "Teenhome                  3\n",
       "Dt_Customer             663\n",
       "Recency                 100\n",
       "MntWines                776\n",
       "MntFruits               158\n",
       "MntMeatProducts         558\n",
       "MntFishProducts         182\n",
       "MntSweetProducts        177\n",
       "MntGoldProds            213\n",
       "NumDealsPurchases        15\n",
       "NumWebPurchases          15\n",
       "NumCatalogPurchases      14\n",
       "NumStorePurchases        14\n",
       "NumWebVisitsMonth        16\n",
       "AcceptedCmp3              2\n",
       "AcceptedCmp4              2\n",
       "AcceptedCmp5              2\n",
       "AcceptedCmp1              2\n",
       "AcceptedCmp2              2\n",
       "Complain                  2\n",
       "Z_CostContact             1\n",
       "Z_Revenue                 1\n",
       "Response                  2\n",
       "dtype: int64"
      ]
     },
     "execution_count": 21,
     "metadata": {},
     "output_type": "execute_result"
    }
   ],
   "source": [
    "df.nunique()"
   ]
  },
  {
   "cell_type": "code",
   "execution_count": 22,
   "metadata": {},
   "outputs": [
    {
     "name": "stdout",
     "output_type": "stream",
     "text": [
      "Requirement already satisfied: faker in /home/leonardo/anaconda3/envs/tf_gpu2/lib/python3.7/site-packages (4.1.1)\r\n",
      "Requirement already satisfied: python-dateutil>=2.4 in /home/leonardo/anaconda3/envs/tf_gpu2/lib/python3.7/site-packages (from faker) (2.8.1)\r\n",
      "Requirement already satisfied: text-unidecode==1.3 in /home/leonardo/anaconda3/envs/tf_gpu2/lib/python3.7/site-packages (from faker) (1.3)\r\n",
      "Requirement already satisfied: six>=1.5 in /home/leonardo/anaconda3/envs/tf_gpu2/lib/python3.7/site-packages (from python-dateutil>=2.4->faker) (1.15.0)\r\n"
     ]
    }
   ],
   "source": [
    "!pip install faker"
   ]
  },
  {
   "cell_type": "code",
   "execution_count": 23,
   "metadata": {},
   "outputs": [],
   "source": [
    "from faker import Faker"
   ]
  },
  {
   "cell_type": "code",
   "execution_count": 24,
   "metadata": {},
   "outputs": [],
   "source": [
    "fake = Faker()"
   ]
  },
  {
   "cell_type": "code",
   "execution_count": 25,
   "metadata": {},
   "outputs": [],
   "source": [
    "dfdf = pd.read_csv(\n",
    "    \"marketing_data.csv\", sep=\",\", index_col=[0])\n"
   ]
  },
  {
   "cell_type": "code",
   "execution_count": null,
   "metadata": {},
   "outputs": [],
   "source": []
  },
  {
   "cell_type": "code",
   "execution_count": 26,
   "metadata": {},
   "outputs": [],
   "source": [
    "def first_name_and_gender():\n",
    "    g = 'M' if random.randint(0,1) == 0 else 'F'\n",
    "    n = fake.first_name_male() if g=='M' else fake.first_name_female()\n",
    "    return {'gender':g,'first_name':n}"
   ]
  },
  {
   "cell_type": "code",
   "execution_count": 27,
   "metadata": {},
   "outputs": [],
   "source": [
    "def birth_and_start_date():\n",
    "    sd = fake.date_between(start_date=\"-20y\", end_date=\"now\")\n",
    "    delta = datetime.timedelta(days=365*randint(18,40))\n",
    "    bd = sd-delta\n",
    "\n",
    "    return {'birth_date':bd, 'start_date': sd}"
   ]
  },
  {
   "cell_type": "code",
   "execution_count": null,
   "metadata": {},
   "outputs": [],
   "source": []
  },
  {
   "cell_type": "code",
   "execution_count": 28,
   "metadata": {},
   "outputs": [],
   "source": [
    "def title_office_org():\n",
    "    #generate a map of real office to fake office\n",
    "    offices = ['New York','Austin','Seattle','Chicago']\n",
    "    #codify the hierarchical structure\n",
    "    allowed_orgs_per_office = {'New York':['Sales'],'Austin':['Devops','Platform','Product','Internal Tools'],'Chicago':['Devops'], 'Seattle':['Internal Tools','Product']}\n",
    "    allowed_titles_per_org = {\n",
    "        'Devops':['Engineer','Senior Engineer','Manager'],\n",
    "        'Sales':['Associate'],\n",
    "        'Platform':['Engineer'],\n",
    "        'Product':['Manager','VP'],\n",
    "        'Internal Tools':['Engineer','Senior Engineer','VP','Manager']\n",
    "    }\n",
    "\n",
    "    office = random.choice(offices)\n",
    "    org = random.choice(allowed_orgs_per_office[office])\n",
    "    title = random.choice(allowed_titles_per_org[org])\n",
    "    return {'ofice':office, 'title':title,'org': org}"
   ]
  },
  {
   "cell_type": "code",
   "execution_count": 29,
   "metadata": {},
   "outputs": [],
   "source": [
    "import random"
   ]
  },
  {
   "cell_type": "code",
   "execution_count": 30,
   "metadata": {},
   "outputs": [],
   "source": [
    "def price_and_freight():\n",
    "    salary = round(random.randint(1500,5000)/1000)*1000\n",
    "    bonus_ratio = random.uniform(0.01,0.1)\n",
    "    bonus = round(salary*bonus_ratio/500,2)*500\n",
    "    return {'price':salary,'freight':bonus}"
   ]
  },
  {
   "cell_type": "code",
   "execution_count": 31,
   "metadata": {},
   "outputs": [
    {
     "data": {
      "text/plain": [
       "{'price': 3000, 'freight': 210.0}"
      ]
     },
     "execution_count": 31,
     "metadata": {},
     "output_type": "execute_result"
    }
   ],
   "source": [
    "price_and_freight()"
   ]
  },
  {
   "cell_type": "code",
   "execution_count": 36,
   "metadata": {},
   "outputs": [],
   "source": [
    "def title_office_org_salary_bonus():\n",
    "    position = title_office_org()\n",
    "    title_and_salary_range = {'Engineer':[90,120],'Senior Engineer':[110,140],'Manager':[130,150],'Associate':[60,80],'VP':[150,250]}\n",
    "    salary_range = title_and_salary_range[position['title']]\n",
    "    salary = round(random.randint(1000*salary_range[0],1000*salary_range[1])/1000)*1000\n",
    "    bonus_ratio = random.uniform(0.15,0.2)\n",
    "    bonus = round(salary*bonus_ratio/500)*500\n",
    "    position.update({'salary':salary,'bonus':bonus})\n",
    "    return position"
   ]
  },
  {
   "cell_type": "code",
   "execution_count": 37,
   "metadata": {},
   "outputs": [
    {
     "data": {
      "text/plain": [
       "{'ofice': 'New York',\n",
       " 'title': 'Associate',\n",
       " 'org': 'Sales',\n",
       " 'salary': 66000,\n",
       " 'bonus': 13000}"
      ]
     },
     "execution_count": 37,
     "metadata": {},
     "output_type": "execute_result"
    }
   ],
   "source": [
    " title_office_org_salary_bonus()"
   ]
  },
  {
   "cell_type": "code",
   "execution_count": 15,
   "metadata": {},
   "outputs": [],
   "source": [
    "d = dict()\n",
    "d['first_name_and_gender'] = first_name_and_gender\n",
    "d['last_name'] = lambda: {'last_name':fake.last_name()}\n",
    "d['personal_email'] = lambda: {'email':fake.email()}\n",
    "d['ssn'] = lambda: {'ssn':fake.ssn()}\n",
    "d['birth_and_start_date'] = birth_and_start_date\n",
    "d['title_office_org_salary_bonus'] = title_office_org_salary_bonus\n",
    "d['accrued_holidays'] = lambda: {'accrued_holiday':random.randint(0,20)}"
   ]
  },
  {
   "cell_type": "code",
   "execution_count": 20,
   "metadata": {},
   "outputs": [],
   "source": [
    "numRows = 39\n",
    "import datetime\n",
    "from random import randint"
   ]
  },
  {
   "cell_type": "code",
   "execution_count": 21,
   "metadata": {},
   "outputs": [
    {
     "name": "stdout",
     "output_type": "stream",
     "text": [
      "['F', 'Danielle', 'Allen', 'karnold@alexander.com', '037-95-1816', datetime.date(1990, 3, 27), datetime.date(2020, 3, 19), 'New York', 'Associate', 'Sales', 65000, 10000, 1]\n",
      "['M', 'Thomas', 'Cole', 'donnaadams@yahoo.com', '188-66-7610', datetime.date(1982, 4, 11), datetime.date(2008, 4, 4), 'Austin', 'VP', 'Product', 239000, 44000, 16]\n",
      "['M', 'James', 'Fisher', 'xcooper@hotmail.com', '139-61-5913', datetime.date(1981, 6, 21), datetime.date(2005, 6, 15), 'Austin', 'Engineer', 'Devops', 102000, 18000, 7]\n",
      "['M', 'Joseph', 'Garcia', 'ccrawford@gmail.com', '122-11-8778', datetime.date(1980, 5, 6), datetime.date(2007, 4, 30), 'Chicago', 'Manager', 'Devops', 145000, 26500, 16]\n",
      "['M', 'Willie', 'Stewart', 'daniel53@friedman.com', '524-71-6371', datetime.date(1980, 7, 7), datetime.date(2011, 6, 30), 'New York', 'Associate', 'Sales', 63000, 12500, 9]\n",
      "['M', 'Brad', 'Combs', 'mherman@miller-knox.org', '098-25-2860', datetime.date(1982, 7, 4), datetime.date(2010, 6, 27), 'New York', 'Associate', 'Sales', 73000, 12500, 6]\n",
      "['M', 'Joshua', 'Dougherty', 'phillipsnancy@yahoo.com', '166-98-8523', datetime.date(1967, 6, 16), datetime.date(2003, 6, 7), 'New York', 'Associate', 'Sales', 70000, 13000, 10]\n",
      "['F', 'Melissa', 'Phillips', 'rlee@boyer.info', '234-16-4228', datetime.date(1974, 12, 27), datetime.date(2002, 12, 20), 'New York', 'Associate', 'Sales', 61000, 11500, 18]\n",
      "['M', 'Steven', 'Duncan', 'joseallen@gmail.com', '889-34-4722', datetime.date(1985, 10, 29), datetime.date(2014, 10, 22), 'Seattle', 'Manager', 'Product', 132000, 24000, 11]\n",
      "['M', 'Benjamin', 'Gomez', 'katherinesanchez@hotmail.com', '552-45-9830', datetime.date(1984, 11, 4), datetime.date(2003, 10, 31), 'Seattle', 'Manager', 'Internal Tools', 144000, 27500, 1]\n",
      "['M', 'Brandon', 'Haynes', 'leeluis@gonzales.com', '670-23-5409', datetime.date(1969, 6, 3), datetime.date(2006, 5, 25), 'New York', 'Associate', 'Sales', 75000, 15000, 11]\n",
      "['M', 'Christopher', 'Ortega', 'dguzman@white-long.info', '080-47-2090', datetime.date(1966, 6, 30), datetime.date(2001, 6, 21), 'Seattle', 'Manager', 'Internal Tools', 142000, 24500, 9]\n",
      "['F', 'Debra', 'Lewis', 'clarkrichard@hotmail.com', '808-91-0975', datetime.date(1994, 1, 4), datetime.date(2017, 12, 29), 'Chicago', 'Engineer', 'Devops', 93000, 18000, 9]\n",
      "['M', 'Clinton', 'Case', 'tanyacobb@payne.com', '589-53-5400', datetime.date(1989, 5, 3), datetime.date(2018, 4, 26), 'New York', 'Associate', 'Sales', 64000, 11500, 7]\n",
      "['M', 'Robert', 'Evans', 'rebeccajohnson@hotmail.com', '101-45-1169', datetime.date(1985, 5, 21), datetime.date(2004, 5, 16), 'Austin', 'Senior Engineer', 'Internal Tools', 113000, 21000, 13]\n",
      "['M', 'Gregory', 'Gonzalez', 'fwilliams@white.net', '110-04-8542', datetime.date(1994, 9, 22), datetime.date(2018, 9, 16), 'New York', 'Associate', 'Sales', 67000, 11500, 17]\n",
      "['F', 'Lisa', 'Gill', 'cristianbrown@moore-stark.info', '170-45-4562', datetime.date(1983, 11, 1), datetime.date(2012, 10, 24), 'Seattle', 'VP', 'Product', 221000, 37000, 14]\n",
      "['F', 'Natalie', 'Nelson', 'martinlouis@gmail.com', '856-12-5599', datetime.date(1971, 7, 6), datetime.date(2004, 6, 27), 'Seattle', 'Manager', 'Product', 146000, 29000, 18]\n",
      "['F', 'Lisa', 'Stewart', 'fullerjames@hotmail.com', '042-16-6812', datetime.date(1974, 7, 18), datetime.date(2006, 7, 10), 'New York', 'Associate', 'Sales', 61000, 10500, 16]\n",
      "['F', 'Monica', 'Warren', 'dennisdawn@yahoo.com', '767-96-5059', datetime.date(1993, 9, 16), datetime.date(2017, 9, 10), 'Chicago', 'Manager', 'Devops', 145000, 27500, 8]\n",
      "['M', 'William', 'Hernandez', 'christinekemp@gmail.com', '386-91-9536', datetime.date(1968, 12, 26), datetime.date(2000, 12, 18), 'New York', 'Associate', 'Sales', 70000, 12000, 14]\n",
      "['M', 'Samuel', 'Phillips', 'qbaxter@jones.net', '813-74-4790', datetime.date(1975, 12, 21), datetime.date(2006, 12, 13), 'Seattle', 'Manager', 'Product', 133000, 22500, 9]\n",
      "['F', 'Jennifer', 'Dixon', 'sherri78@hotmail.com', '108-18-1207', datetime.date(1971, 10, 12), datetime.date(2010, 10, 2), 'Austin', 'Engineer', 'Platform', 97000, 16000, 20]\n",
      "['F', 'Jenna', 'Ibarra', 'jill76@mccarty.info', '719-14-9208', datetime.date(1975, 1, 6), datetime.date(2005, 12, 29), 'Chicago', 'Senior Engineer', 'Devops', 121000, 18000, 9]\n",
      "['F', 'Kathleen', 'Richardson', 'jamesfrancis@yahoo.com', '639-26-6473', datetime.date(1974, 6, 23), datetime.date(2011, 6, 14), 'Seattle', 'Senior Engineer', 'Internal Tools', 117000, 22000, 11]\n",
      "['F', 'Mary', 'Perez', 'joseph29@bishop.com', '299-62-5549', datetime.date(1970, 1, 12), datetime.date(2006, 1, 3), 'Seattle', 'Manager', 'Product', 135000, 22500, 16]\n",
      "['M', 'Dan', 'Bell', 'xramos@gmail.com', '716-73-7273', datetime.date(1968, 10, 9), datetime.date(2005, 9, 30), 'Chicago', 'Manager', 'Devops', 141000, 26500, 12]\n",
      "['M', 'Anthony', 'Martinez', 'jackcooke@gmail.com', '515-14-1853', datetime.date(1963, 5, 5), datetime.date(2001, 4, 25), 'Chicago', 'Manager', 'Devops', 140000, 24000, 3]\n",
      "['M', 'David', 'Collins', 'kyle18@hotmail.com', '209-89-7898', datetime.date(1993, 5, 13), datetime.date(2013, 5, 8), 'Seattle', 'Senior Engineer', 'Internal Tools', 128000, 22000, 17]\n",
      "['F', 'Nancy', 'Gonzalez', 'raymondmays@hotmail.com', '113-60-4525', datetime.date(1981, 10, 15), datetime.date(2003, 10, 10), 'Chicago', 'Senior Engineer', 'Devops', 138000, 27500, 17]\n",
      "['M', 'Edward', 'Holmes', 'randall40@christian-daniel.org', '578-25-6162', datetime.date(1966, 12, 3), datetime.date(2004, 11, 23), 'Chicago', 'Engineer', 'Devops', 106000, 19500, 13]\n",
      "['F', 'Sarah', 'Williamson', 'lmcconnell@byrd.com', '584-70-0727', datetime.date(1981, 12, 27), datetime.date(2015, 12, 19), 'Chicago', 'Engineer', 'Devops', 95000, 17000, 13]\n",
      "['F', 'Jennifer', 'Vargas', 'alexanderbrown@hotmail.com', '448-53-6796', datetime.date(1998, 9, 5), datetime.date(2016, 8, 31), 'Seattle', 'Manager', 'Internal Tools', 137000, 26500, 1]\n",
      "['M', 'Kevin', 'Thompson', 'juliegross@brown-glenn.info', '218-14-9407', datetime.date(1970, 3, 27), datetime.date(2002, 3, 19), 'Austin', 'Engineer', 'Internal Tools', 104000, 18000, 1]\n",
      "['F', 'Karen', 'Burns', 'briannguyen@gmail.com', '687-10-5146', datetime.date(1984, 10, 24), datetime.date(2004, 10, 19), 'Chicago', 'Engineer', 'Devops', 109000, 19500, 10]\n",
      "['M', 'Travis', 'Fisher', 'lindawatson@gmail.com', '618-75-8122', datetime.date(1984, 7, 28), datetime.date(2016, 7, 20), 'Seattle', 'VP', 'Internal Tools', 187000, 35000, 11]\n",
      "['M', 'Nathan', 'Andrade', 'iwhite@gmail.com', '158-41-3141', datetime.date(1987, 4, 13), datetime.date(2009, 4, 7), 'New York', 'Associate', 'Sales', 74000, 14500, 13]\n",
      "['F', 'Ashley', 'White', 'murphylaura@simmons.net', '143-68-8799', datetime.date(1978, 12, 17), datetime.date(2012, 12, 8), 'New York', 'Associate', 'Sales', 78000, 12000, 9]\n",
      "['M', 'Gregory', 'Gonzalez', 'qchung@yahoo.com', '750-17-6836', datetime.date(1978, 1, 26), datetime.date(2016, 1, 17), 'New York', 'Associate', 'Sales', 64000, 12000, 1]\n"
     ]
    }
   ],
   "source": [
    "for _ in range(numRows):\n",
    "    deep_list = [list(d[k]().values()) for k in d.keys()]\n",
    "    row = [item for sublist in deep_list for item in sublist]\n",
    "    print(row)"
   ]
  },
  {
   "cell_type": "code",
   "execution_count": 22,
   "metadata": {},
   "outputs": [],
   "source": [
    "import random, datetime\n",
    "from random import randint"
   ]
  },
  {
   "cell_type": "code",
   "execution_count": null,
   "metadata": {},
   "outputs": [],
   "source": []
  },
  {
   "cell_type": "code",
   "execution_count": 39,
   "metadata": {},
   "outputs": [],
   "source": [
    "import pandas as pd, numpy as np\n",
    "import random,requests\n",
    "\n",
    "from faker import Faker\n",
    "#initialize Faker\n",
    "fake=Faker()"
   ]
  },
  {
   "cell_type": "code",
   "execution_count": 58,
   "metadata": {},
   "outputs": [],
   "source": [
    "names=[]\n",
    "address=[]\n",
    "company=[]\n",
    "salaries = []\n",
    "phones = []\n",
    "\n",
    "n_names=100\n",
    "for n in range(n_names):\n",
    "    names.append(fake.email())\n",
    "    address.append(fake.address())\n",
    "    company.append(fake.company())\n",
    "    phones.append(fake.phone_number())\n",
    " \n",
    "    salaries.append(price_and_freight())\n",
    "claim_reason=[\"Prospects\", \"Qualified Prospects\", \"Proposals\", \"New\"]\n",
    "\n",
    "Confidentiality_level=[\"High\", \"Medium\", \"Low\", \"Very low\"]\n",
    "\n",
    "claim_confidentiality_dict=dict(zip(claim_reason,Confidentiality_level))\n",
    "\n",
    "claim_reasons=np.random.choice(claim_reason,n_names, p=[.55,.32,.1,.03])\n",
    "claim_confidentiality_levels=[claim_confidentiality_dict[claim_reasons[i]] for i in range(len(claim_reasons))]\n",
    "product_name=['Traffic', 'Sales of item X', 'Reviews']\n",
    "\n",
    "products_fake=np.random.choice(product_name, n_names, p=[.25, .5, .25])"
   ]
  },
  {
   "cell_type": "code",
   "execution_count": 59,
   "metadata": {},
   "outputs": [],
   "source": [
    "social_media = [\"Google\", \"Facebook\", \"Organic\", \"Instagram\"]\n",
    "media_fake=np.random.choice(social_media, n_names, p=[.20, .15, .4, .25])\n",
    "\n",
    "datasets = [\"MyDataset1\", \"MyDataset2\", \"MyDataset3\", \"MyDataset4\"]\n",
    "datasets_fake=np.random.choice(datasets, n_names)\n",
    "\n",
    "product_name=[\"Product1\",\"Product2\",\"Product3\"]\n",
    "products_fake=np.random.choice(product_name, n_names, p=[.25, .5, .25])"
   ]
  },
  {
   "cell_type": "code",
   "execution_count": 60,
   "metadata": {},
   "outputs": [],
   "source": [
    "prices = [salaries[i]['price'] for i in range(100)]\n",
    "costs = [salaries[i]['freight'] for i in range(100)]"
   ]
  },
  {
   "cell_type": "code",
   "execution_count": 56,
   "metadata": {},
   "outputs": [],
   "source": [
    "variables=[names,address,company,claim_reasons,media_fake,claim_confidentiality_levels, products_fake, prices, costs, datasets_fake, phone]\n",
    "\n",
    "df=pd.DataFrame(variables).transpose()\n",
    "\n",
    "df.columns=[\"email\",\"Customer Address\",\"Company Name\",\"Funnel\", \"SocialMedia\", \"Priority\", \"Products\", \"Revenue\", \"Costs\", \"Campaing\", \"phone\"]\n",
    "\n",
    "df[\"Customer Address\"]=df[\"Customer Address\"].str.replace(\"\\n\",\",\")"
   ]
  },
  {
   "cell_type": "code",
   "execution_count": 57,
   "metadata": {},
   "outputs": [],
   "source": [
    "df.to_csv(\"marketing_data.csv\")"
   ]
  },
  {
   "cell_type": "code",
   "execution_count": 54,
   "metadata": {},
   "outputs": [
    {
     "data": {
      "text/html": [
       "<div>\n",
       "<style scoped>\n",
       "    .dataframe tbody tr th:only-of-type {\n",
       "        vertical-align: middle;\n",
       "    }\n",
       "\n",
       "    .dataframe tbody tr th {\n",
       "        vertical-align: top;\n",
       "    }\n",
       "\n",
       "    .dataframe thead th {\n",
       "        text-align: right;\n",
       "    }\n",
       "</style>\n",
       "<table border=\"1\" class=\"dataframe\">\n",
       "  <thead>\n",
       "    <tr style=\"text-align: right;\">\n",
       "      <th></th>\n",
       "      <th>email</th>\n",
       "      <th>Customer Address</th>\n",
       "      <th>Company Name</th>\n",
       "      <th>Funnel</th>\n",
       "      <th>SocialMedia</th>\n",
       "      <th>Priority</th>\n",
       "      <th>Products</th>\n",
       "      <th>Revenue</th>\n",
       "      <th>Costs</th>\n",
       "      <th>Campaing</th>\n",
       "    </tr>\n",
       "  </thead>\n",
       "  <tbody>\n",
       "    <tr>\n",
       "      <th>0</th>\n",
       "      <td>barnesjames@yahoo.com</td>\n",
       "      <td>177 Phillips Drive,Adamhaven, GA 14799</td>\n",
       "      <td>Adams, Arnold and Ponce</td>\n",
       "      <td>Proposals</td>\n",
       "      <td>Facebook</td>\n",
       "      <td>Low</td>\n",
       "      <td>Product1</td>\n",
       "      <td>3000</td>\n",
       "      <td>250</td>\n",
       "      <td>MyDataset4</td>\n",
       "    </tr>\n",
       "    <tr>\n",
       "      <th>1</th>\n",
       "      <td>sherimartin@yahoo.com</td>\n",
       "      <td>2756 Hamilton Center,Port Amy, KY 40604</td>\n",
       "      <td>George Ltd</td>\n",
       "      <td>Proposals</td>\n",
       "      <td>Organic</td>\n",
       "      <td>Low</td>\n",
       "      <td>Product2</td>\n",
       "      <td>4000</td>\n",
       "      <td>305</td>\n",
       "      <td>MyDataset1</td>\n",
       "    </tr>\n",
       "    <tr>\n",
       "      <th>2</th>\n",
       "      <td>sandrews@hotmail.com</td>\n",
       "      <td>8921 Weaver Court,West Kimstad, DE 30376</td>\n",
       "      <td>Lopez-Rodriguez</td>\n",
       "      <td>Prospects</td>\n",
       "      <td>Facebook</td>\n",
       "      <td>High</td>\n",
       "      <td>Product1</td>\n",
       "      <td>2000</td>\n",
       "      <td>55</td>\n",
       "      <td>MyDataset2</td>\n",
       "    </tr>\n",
       "    <tr>\n",
       "      <th>3</th>\n",
       "      <td>joseph77@hotmail.com</td>\n",
       "      <td>Unit 6068 Box 9471,DPO AP 34031</td>\n",
       "      <td>Collins-Miller</td>\n",
       "      <td>Prospects</td>\n",
       "      <td>Organic</td>\n",
       "      <td>High</td>\n",
       "      <td>Product2</td>\n",
       "      <td>3000</td>\n",
       "      <td>180</td>\n",
       "      <td>MyDataset4</td>\n",
       "    </tr>\n",
       "    <tr>\n",
       "      <th>4</th>\n",
       "      <td>debbierice@gmail.com</td>\n",
       "      <td>5016 Ryan Crossroad Apt. 303,Stevenchester, DC...</td>\n",
       "      <td>Howard-Flores</td>\n",
       "      <td>Prospects</td>\n",
       "      <td>Google</td>\n",
       "      <td>High</td>\n",
       "      <td>Product3</td>\n",
       "      <td>5000</td>\n",
       "      <td>315</td>\n",
       "      <td>MyDataset2</td>\n",
       "    </tr>\n",
       "    <tr>\n",
       "      <th>...</th>\n",
       "      <td>...</td>\n",
       "      <td>...</td>\n",
       "      <td>...</td>\n",
       "      <td>...</td>\n",
       "      <td>...</td>\n",
       "      <td>...</td>\n",
       "      <td>...</td>\n",
       "      <td>...</td>\n",
       "      <td>...</td>\n",
       "      <td>...</td>\n",
       "    </tr>\n",
       "    <tr>\n",
       "      <th>95</th>\n",
       "      <td>mitchellwatkins@yahoo.com</td>\n",
       "      <td>0773 Julie Cape,Franklinside, DE 47413</td>\n",
       "      <td>Reynolds LLC</td>\n",
       "      <td>Prospects</td>\n",
       "      <td>Google</td>\n",
       "      <td>High</td>\n",
       "      <td>Product3</td>\n",
       "      <td>4000</td>\n",
       "      <td>180</td>\n",
       "      <td>MyDataset4</td>\n",
       "    </tr>\n",
       "    <tr>\n",
       "      <th>96</th>\n",
       "      <td>skinnerlaura@gmail.com</td>\n",
       "      <td>7728 Howard Wall Apt. 791,North Markshire, ID ...</td>\n",
       "      <td>Burke and Sons</td>\n",
       "      <td>Prospects</td>\n",
       "      <td>Google</td>\n",
       "      <td>High</td>\n",
       "      <td>Product2</td>\n",
       "      <td>3000</td>\n",
       "      <td>50</td>\n",
       "      <td>MyDataset1</td>\n",
       "    </tr>\n",
       "    <tr>\n",
       "      <th>97</th>\n",
       "      <td>wclark@hotmail.com</td>\n",
       "      <td>8656 Jones Estate,Bakerbury, OR 41677</td>\n",
       "      <td>Morales, Martin and Hernandez</td>\n",
       "      <td>Qualified Prospects</td>\n",
       "      <td>Facebook</td>\n",
       "      <td>Medium</td>\n",
       "      <td>Product3</td>\n",
       "      <td>4000</td>\n",
       "      <td>40</td>\n",
       "      <td>MyDataset4</td>\n",
       "    </tr>\n",
       "    <tr>\n",
       "      <th>98</th>\n",
       "      <td>chernandez@yahoo.com</td>\n",
       "      <td>189 Joshua Roads Suite 623,Proctorberg, GA 69185</td>\n",
       "      <td>Lewis-Morris</td>\n",
       "      <td>Prospects</td>\n",
       "      <td>Facebook</td>\n",
       "      <td>High</td>\n",
       "      <td>Product2</td>\n",
       "      <td>4000</td>\n",
       "      <td>355</td>\n",
       "      <td>MyDataset2</td>\n",
       "    </tr>\n",
       "    <tr>\n",
       "      <th>99</th>\n",
       "      <td>rgonzalez@gmail.com</td>\n",
       "      <td>375 Mendoza Inlet Suite 468,Kristinside, AL 38967</td>\n",
       "      <td>Stokes, Jones and Kelly</td>\n",
       "      <td>Prospects</td>\n",
       "      <td>Facebook</td>\n",
       "      <td>High</td>\n",
       "      <td>Product1</td>\n",
       "      <td>4000</td>\n",
       "      <td>90</td>\n",
       "      <td>MyDataset3</td>\n",
       "    </tr>\n",
       "  </tbody>\n",
       "</table>\n",
       "<p>100 rows × 10 columns</p>\n",
       "</div>"
      ],
      "text/plain": [
       "                        email  \\\n",
       "0       barnesjames@yahoo.com   \n",
       "1       sherimartin@yahoo.com   \n",
       "2        sandrews@hotmail.com   \n",
       "3        joseph77@hotmail.com   \n",
       "4        debbierice@gmail.com   \n",
       "..                        ...   \n",
       "95  mitchellwatkins@yahoo.com   \n",
       "96     skinnerlaura@gmail.com   \n",
       "97         wclark@hotmail.com   \n",
       "98       chernandez@yahoo.com   \n",
       "99        rgonzalez@gmail.com   \n",
       "\n",
       "                                     Customer Address  \\\n",
       "0              177 Phillips Drive,Adamhaven, GA 14799   \n",
       "1             2756 Hamilton Center,Port Amy, KY 40604   \n",
       "2            8921 Weaver Court,West Kimstad, DE 30376   \n",
       "3                     Unit 6068 Box 9471,DPO AP 34031   \n",
       "4   5016 Ryan Crossroad Apt. 303,Stevenchester, DC...   \n",
       "..                                                ...   \n",
       "95             0773 Julie Cape,Franklinside, DE 47413   \n",
       "96  7728 Howard Wall Apt. 791,North Markshire, ID ...   \n",
       "97              8656 Jones Estate,Bakerbury, OR 41677   \n",
       "98   189 Joshua Roads Suite 623,Proctorberg, GA 69185   \n",
       "99  375 Mendoza Inlet Suite 468,Kristinside, AL 38967   \n",
       "\n",
       "                     Company Name               Funnel SocialMedia Priority  \\\n",
       "0         Adams, Arnold and Ponce            Proposals    Facebook      Low   \n",
       "1                      George Ltd            Proposals     Organic      Low   \n",
       "2                 Lopez-Rodriguez            Prospects    Facebook     High   \n",
       "3                  Collins-Miller            Prospects     Organic     High   \n",
       "4                   Howard-Flores            Prospects      Google     High   \n",
       "..                            ...                  ...         ...      ...   \n",
       "95                   Reynolds LLC            Prospects      Google     High   \n",
       "96                 Burke and Sons            Prospects      Google     High   \n",
       "97  Morales, Martin and Hernandez  Qualified Prospects    Facebook   Medium   \n",
       "98                   Lewis-Morris            Prospects    Facebook     High   \n",
       "99        Stokes, Jones and Kelly            Prospects    Facebook     High   \n",
       "\n",
       "    Products Revenue Costs    Campaing  \n",
       "0   Product1    3000   250  MyDataset4  \n",
       "1   Product2    4000   305  MyDataset1  \n",
       "2   Product1    2000    55  MyDataset2  \n",
       "3   Product2    3000   180  MyDataset4  \n",
       "4   Product3    5000   315  MyDataset2  \n",
       "..       ...     ...   ...         ...  \n",
       "95  Product3    4000   180  MyDataset4  \n",
       "96  Product2    3000    50  MyDataset1  \n",
       "97  Product3    4000    40  MyDataset4  \n",
       "98  Product2    4000   355  MyDataset2  \n",
       "99  Product1    4000    90  MyDataset3  \n",
       "\n",
       "[100 rows x 10 columns]"
      ]
     },
     "execution_count": 54,
     "metadata": {},
     "output_type": "execute_result"
    }
   ],
   "source": [
    "df"
   ]
  },
  {
   "cell_type": "code",
   "execution_count": 53,
   "metadata": {},
   "outputs": [
    {
     "data": {
      "application/vnd.plotly.v1+json": {
       "config": {
        "plotlyServerURL": "https://plot.ly"
       },
       "data": [
        {
         "alignmentgroup": "True",
         "hoverlabel": {
          "namelength": 0
         },
         "hovertemplate": "Campaing=MyDataset4<br>Priority=%{x}<br>Costs=%{y}",
         "legendgroup": "MyDataset4",
         "marker": {
          "color": "#636efa"
         },
         "name": "MyDataset4",
         "offsetgroup": "MyDataset4",
         "orientation": "v",
         "showlegend": true,
         "textposition": "auto",
         "type": "bar",
         "x": [
          "Low",
          "High",
          "Very low",
          "High",
          "Medium",
          "Medium",
          "High",
          "High",
          "High",
          "High",
          "Low",
          "High",
          "High",
          "High",
          "High",
          "High",
          "High",
          "High",
          "Medium",
          "High",
          "High",
          "Medium",
          "High",
          "High",
          "Medium"
         ],
         "xaxis": "x",
         "y": [
          250,
          180,
          125,
          335,
          455,
          300,
          165,
          135,
          160,
          340,
          235,
          140,
          260,
          135,
          205,
          280,
          275,
          150,
          260,
          350,
          130,
          210,
          65,
          180,
          40
         ],
         "yaxis": "y"
        },
        {
         "alignmentgroup": "True",
         "hoverlabel": {
          "namelength": 0
         },
         "hovertemplate": "Campaing=MyDataset1<br>Priority=%{x}<br>Costs=%{y}",
         "legendgroup": "MyDataset1",
         "marker": {
          "color": "#EF553B"
         },
         "name": "MyDataset1",
         "offsetgroup": "MyDataset1",
         "orientation": "v",
         "showlegend": true,
         "textposition": "auto",
         "type": "bar",
         "x": [
          "Low",
          "Low",
          "High",
          "High",
          "Medium",
          "High",
          "High",
          "High",
          "High",
          "Medium",
          "High",
          "High",
          "High",
          "Medium",
          "High",
          "High",
          "Low",
          "Medium",
          "High",
          "High",
          "High",
          "High"
         ],
         "xaxis": "x",
         "y": [
          305,
          360,
          340,
          285,
          135,
          190,
          260,
          105,
          170,
          350,
          155,
          170,
          200,
          150,
          65,
          245,
          275,
          110,
          295,
          155,
          250,
          50
         ],
         "yaxis": "y"
        },
        {
         "alignmentgroup": "True",
         "hoverlabel": {
          "namelength": 0
         },
         "hovertemplate": "Campaing=MyDataset2<br>Priority=%{x}<br>Costs=%{y}",
         "legendgroup": "MyDataset2",
         "marker": {
          "color": "#00cc96"
         },
         "name": "MyDataset2",
         "offsetgroup": "MyDataset2",
         "orientation": "v",
         "showlegend": true,
         "textposition": "auto",
         "type": "bar",
         "x": [
          "High",
          "High",
          "Medium",
          "Medium",
          "High",
          "Low",
          "High",
          "Medium",
          "Medium",
          "High",
          "High",
          "High",
          "High",
          "High",
          "High",
          "High",
          "Medium",
          "High",
          "High",
          "High",
          "Medium",
          "High",
          "Medium",
          "Medium",
          "Medium",
          "High",
          "High",
          "High"
         ],
         "xaxis": "x",
         "y": [
          55,
          315,
          460,
          85,
          270,
          285,
          215,
          125,
          175,
          200,
          90,
          225,
          55,
          145,
          30,
          390,
          65,
          95,
          140,
          165,
          295,
          365,
          255,
          80,
          110,
          395,
          110,
          355
         ],
         "yaxis": "y"
        },
        {
         "alignmentgroup": "True",
         "hoverlabel": {
          "namelength": 0
         },
         "hovertemplate": "Campaing=MyDataset3<br>Priority=%{x}<br>Costs=%{y}",
         "legendgroup": "MyDataset3",
         "marker": {
          "color": "#ab63fa"
         },
         "name": "MyDataset3",
         "offsetgroup": "MyDataset3",
         "orientation": "v",
         "showlegend": true,
         "textposition": "auto",
         "type": "bar",
         "x": [
          "High",
          "High",
          "High",
          "High",
          "Medium",
          "Medium",
          "High",
          "High",
          "High",
          "High",
          "Very low",
          "High",
          "Low",
          "High",
          "High",
          "Medium",
          "Medium",
          "Medium",
          "Medium",
          "Medium",
          "High",
          "High",
          "High",
          "Very low",
          "High"
         ],
         "xaxis": "x",
         "y": [
          90,
          175,
          130,
          230,
          210,
          155,
          195,
          105,
          375,
          110,
          145,
          220,
          380,
          170,
          285,
          260,
          170,
          195,
          125,
          185,
          280,
          390,
          65,
          450,
          90
         ],
         "yaxis": "y"
        }
       ],
       "layout": {
        "barmode": "relative",
        "legend": {
         "title": {
          "text": "Campaing"
         },
         "tracegroupgap": 0
        },
        "margin": {
         "t": 60
        },
        "template": {
         "data": {
          "bar": [
           {
            "error_x": {
             "color": "#2a3f5f"
            },
            "error_y": {
             "color": "#2a3f5f"
            },
            "marker": {
             "line": {
              "color": "#E5ECF6",
              "width": 0.5
             }
            },
            "type": "bar"
           }
          ],
          "barpolar": [
           {
            "marker": {
             "line": {
              "color": "#E5ECF6",
              "width": 0.5
             }
            },
            "type": "barpolar"
           }
          ],
          "carpet": [
           {
            "aaxis": {
             "endlinecolor": "#2a3f5f",
             "gridcolor": "white",
             "linecolor": "white",
             "minorgridcolor": "white",
             "startlinecolor": "#2a3f5f"
            },
            "baxis": {
             "endlinecolor": "#2a3f5f",
             "gridcolor": "white",
             "linecolor": "white",
             "minorgridcolor": "white",
             "startlinecolor": "#2a3f5f"
            },
            "type": "carpet"
           }
          ],
          "choropleth": [
           {
            "colorbar": {
             "outlinewidth": 0,
             "ticks": ""
            },
            "type": "choropleth"
           }
          ],
          "contour": [
           {
            "colorbar": {
             "outlinewidth": 0,
             "ticks": ""
            },
            "colorscale": [
             [
              0,
              "#0d0887"
             ],
             [
              0.1111111111111111,
              "#46039f"
             ],
             [
              0.2222222222222222,
              "#7201a8"
             ],
             [
              0.3333333333333333,
              "#9c179e"
             ],
             [
              0.4444444444444444,
              "#bd3786"
             ],
             [
              0.5555555555555556,
              "#d8576b"
             ],
             [
              0.6666666666666666,
              "#ed7953"
             ],
             [
              0.7777777777777778,
              "#fb9f3a"
             ],
             [
              0.8888888888888888,
              "#fdca26"
             ],
             [
              1,
              "#f0f921"
             ]
            ],
            "type": "contour"
           }
          ],
          "contourcarpet": [
           {
            "colorbar": {
             "outlinewidth": 0,
             "ticks": ""
            },
            "type": "contourcarpet"
           }
          ],
          "heatmap": [
           {
            "colorbar": {
             "outlinewidth": 0,
             "ticks": ""
            },
            "colorscale": [
             [
              0,
              "#0d0887"
             ],
             [
              0.1111111111111111,
              "#46039f"
             ],
             [
              0.2222222222222222,
              "#7201a8"
             ],
             [
              0.3333333333333333,
              "#9c179e"
             ],
             [
              0.4444444444444444,
              "#bd3786"
             ],
             [
              0.5555555555555556,
              "#d8576b"
             ],
             [
              0.6666666666666666,
              "#ed7953"
             ],
             [
              0.7777777777777778,
              "#fb9f3a"
             ],
             [
              0.8888888888888888,
              "#fdca26"
             ],
             [
              1,
              "#f0f921"
             ]
            ],
            "type": "heatmap"
           }
          ],
          "heatmapgl": [
           {
            "colorbar": {
             "outlinewidth": 0,
             "ticks": ""
            },
            "colorscale": [
             [
              0,
              "#0d0887"
             ],
             [
              0.1111111111111111,
              "#46039f"
             ],
             [
              0.2222222222222222,
              "#7201a8"
             ],
             [
              0.3333333333333333,
              "#9c179e"
             ],
             [
              0.4444444444444444,
              "#bd3786"
             ],
             [
              0.5555555555555556,
              "#d8576b"
             ],
             [
              0.6666666666666666,
              "#ed7953"
             ],
             [
              0.7777777777777778,
              "#fb9f3a"
             ],
             [
              0.8888888888888888,
              "#fdca26"
             ],
             [
              1,
              "#f0f921"
             ]
            ],
            "type": "heatmapgl"
           }
          ],
          "histogram": [
           {
            "marker": {
             "colorbar": {
              "outlinewidth": 0,
              "ticks": ""
             }
            },
            "type": "histogram"
           }
          ],
          "histogram2d": [
           {
            "colorbar": {
             "outlinewidth": 0,
             "ticks": ""
            },
            "colorscale": [
             [
              0,
              "#0d0887"
             ],
             [
              0.1111111111111111,
              "#46039f"
             ],
             [
              0.2222222222222222,
              "#7201a8"
             ],
             [
              0.3333333333333333,
              "#9c179e"
             ],
             [
              0.4444444444444444,
              "#bd3786"
             ],
             [
              0.5555555555555556,
              "#d8576b"
             ],
             [
              0.6666666666666666,
              "#ed7953"
             ],
             [
              0.7777777777777778,
              "#fb9f3a"
             ],
             [
              0.8888888888888888,
              "#fdca26"
             ],
             [
              1,
              "#f0f921"
             ]
            ],
            "type": "histogram2d"
           }
          ],
          "histogram2dcontour": [
           {
            "colorbar": {
             "outlinewidth": 0,
             "ticks": ""
            },
            "colorscale": [
             [
              0,
              "#0d0887"
             ],
             [
              0.1111111111111111,
              "#46039f"
             ],
             [
              0.2222222222222222,
              "#7201a8"
             ],
             [
              0.3333333333333333,
              "#9c179e"
             ],
             [
              0.4444444444444444,
              "#bd3786"
             ],
             [
              0.5555555555555556,
              "#d8576b"
             ],
             [
              0.6666666666666666,
              "#ed7953"
             ],
             [
              0.7777777777777778,
              "#fb9f3a"
             ],
             [
              0.8888888888888888,
              "#fdca26"
             ],
             [
              1,
              "#f0f921"
             ]
            ],
            "type": "histogram2dcontour"
           }
          ],
          "mesh3d": [
           {
            "colorbar": {
             "outlinewidth": 0,
             "ticks": ""
            },
            "type": "mesh3d"
           }
          ],
          "parcoords": [
           {
            "line": {
             "colorbar": {
              "outlinewidth": 0,
              "ticks": ""
             }
            },
            "type": "parcoords"
           }
          ],
          "pie": [
           {
            "automargin": true,
            "type": "pie"
           }
          ],
          "scatter": [
           {
            "marker": {
             "colorbar": {
              "outlinewidth": 0,
              "ticks": ""
             }
            },
            "type": "scatter"
           }
          ],
          "scatter3d": [
           {
            "line": {
             "colorbar": {
              "outlinewidth": 0,
              "ticks": ""
             }
            },
            "marker": {
             "colorbar": {
              "outlinewidth": 0,
              "ticks": ""
             }
            },
            "type": "scatter3d"
           }
          ],
          "scattercarpet": [
           {
            "marker": {
             "colorbar": {
              "outlinewidth": 0,
              "ticks": ""
             }
            },
            "type": "scattercarpet"
           }
          ],
          "scattergeo": [
           {
            "marker": {
             "colorbar": {
              "outlinewidth": 0,
              "ticks": ""
             }
            },
            "type": "scattergeo"
           }
          ],
          "scattergl": [
           {
            "marker": {
             "colorbar": {
              "outlinewidth": 0,
              "ticks": ""
             }
            },
            "type": "scattergl"
           }
          ],
          "scattermapbox": [
           {
            "marker": {
             "colorbar": {
              "outlinewidth": 0,
              "ticks": ""
             }
            },
            "type": "scattermapbox"
           }
          ],
          "scatterpolar": [
           {
            "marker": {
             "colorbar": {
              "outlinewidth": 0,
              "ticks": ""
             }
            },
            "type": "scatterpolar"
           }
          ],
          "scatterpolargl": [
           {
            "marker": {
             "colorbar": {
              "outlinewidth": 0,
              "ticks": ""
             }
            },
            "type": "scatterpolargl"
           }
          ],
          "scatterternary": [
           {
            "marker": {
             "colorbar": {
              "outlinewidth": 0,
              "ticks": ""
             }
            },
            "type": "scatterternary"
           }
          ],
          "surface": [
           {
            "colorbar": {
             "outlinewidth": 0,
             "ticks": ""
            },
            "colorscale": [
             [
              0,
              "#0d0887"
             ],
             [
              0.1111111111111111,
              "#46039f"
             ],
             [
              0.2222222222222222,
              "#7201a8"
             ],
             [
              0.3333333333333333,
              "#9c179e"
             ],
             [
              0.4444444444444444,
              "#bd3786"
             ],
             [
              0.5555555555555556,
              "#d8576b"
             ],
             [
              0.6666666666666666,
              "#ed7953"
             ],
             [
              0.7777777777777778,
              "#fb9f3a"
             ],
             [
              0.8888888888888888,
              "#fdca26"
             ],
             [
              1,
              "#f0f921"
             ]
            ],
            "type": "surface"
           }
          ],
          "table": [
           {
            "cells": {
             "fill": {
              "color": "#EBF0F8"
             },
             "line": {
              "color": "white"
             }
            },
            "header": {
             "fill": {
              "color": "#C8D4E3"
             },
             "line": {
              "color": "white"
             }
            },
            "type": "table"
           }
          ]
         },
         "layout": {
          "annotationdefaults": {
           "arrowcolor": "#2a3f5f",
           "arrowhead": 0,
           "arrowwidth": 1
          },
          "coloraxis": {
           "colorbar": {
            "outlinewidth": 0,
            "ticks": ""
           }
          },
          "colorscale": {
           "diverging": [
            [
             0,
             "#8e0152"
            ],
            [
             0.1,
             "#c51b7d"
            ],
            [
             0.2,
             "#de77ae"
            ],
            [
             0.3,
             "#f1b6da"
            ],
            [
             0.4,
             "#fde0ef"
            ],
            [
             0.5,
             "#f7f7f7"
            ],
            [
             0.6,
             "#e6f5d0"
            ],
            [
             0.7,
             "#b8e186"
            ],
            [
             0.8,
             "#7fbc41"
            ],
            [
             0.9,
             "#4d9221"
            ],
            [
             1,
             "#276419"
            ]
           ],
           "sequential": [
            [
             0,
             "#0d0887"
            ],
            [
             0.1111111111111111,
             "#46039f"
            ],
            [
             0.2222222222222222,
             "#7201a8"
            ],
            [
             0.3333333333333333,
             "#9c179e"
            ],
            [
             0.4444444444444444,
             "#bd3786"
            ],
            [
             0.5555555555555556,
             "#d8576b"
            ],
            [
             0.6666666666666666,
             "#ed7953"
            ],
            [
             0.7777777777777778,
             "#fb9f3a"
            ],
            [
             0.8888888888888888,
             "#fdca26"
            ],
            [
             1,
             "#f0f921"
            ]
           ],
           "sequentialminus": [
            [
             0,
             "#0d0887"
            ],
            [
             0.1111111111111111,
             "#46039f"
            ],
            [
             0.2222222222222222,
             "#7201a8"
            ],
            [
             0.3333333333333333,
             "#9c179e"
            ],
            [
             0.4444444444444444,
             "#bd3786"
            ],
            [
             0.5555555555555556,
             "#d8576b"
            ],
            [
             0.6666666666666666,
             "#ed7953"
            ],
            [
             0.7777777777777778,
             "#fb9f3a"
            ],
            [
             0.8888888888888888,
             "#fdca26"
            ],
            [
             1,
             "#f0f921"
            ]
           ]
          },
          "colorway": [
           "#636efa",
           "#EF553B",
           "#00cc96",
           "#ab63fa",
           "#FFA15A",
           "#19d3f3",
           "#FF6692",
           "#B6E880",
           "#FF97FF",
           "#FECB52"
          ],
          "font": {
           "color": "#2a3f5f"
          },
          "geo": {
           "bgcolor": "white",
           "lakecolor": "white",
           "landcolor": "#E5ECF6",
           "showlakes": true,
           "showland": true,
           "subunitcolor": "white"
          },
          "hoverlabel": {
           "align": "left"
          },
          "hovermode": "closest",
          "mapbox": {
           "style": "light"
          },
          "paper_bgcolor": "white",
          "plot_bgcolor": "#E5ECF6",
          "polar": {
           "angularaxis": {
            "gridcolor": "white",
            "linecolor": "white",
            "ticks": ""
           },
           "bgcolor": "#E5ECF6",
           "radialaxis": {
            "gridcolor": "white",
            "linecolor": "white",
            "ticks": ""
           }
          },
          "scene": {
           "xaxis": {
            "backgroundcolor": "#E5ECF6",
            "gridcolor": "white",
            "gridwidth": 2,
            "linecolor": "white",
            "showbackground": true,
            "ticks": "",
            "zerolinecolor": "white"
           },
           "yaxis": {
            "backgroundcolor": "#E5ECF6",
            "gridcolor": "white",
            "gridwidth": 2,
            "linecolor": "white",
            "showbackground": true,
            "ticks": "",
            "zerolinecolor": "white"
           },
           "zaxis": {
            "backgroundcolor": "#E5ECF6",
            "gridcolor": "white",
            "gridwidth": 2,
            "linecolor": "white",
            "showbackground": true,
            "ticks": "",
            "zerolinecolor": "white"
           }
          },
          "shapedefaults": {
           "line": {
            "color": "#2a3f5f"
           }
          },
          "ternary": {
           "aaxis": {
            "gridcolor": "white",
            "linecolor": "white",
            "ticks": ""
           },
           "baxis": {
            "gridcolor": "white",
            "linecolor": "white",
            "ticks": ""
           },
           "bgcolor": "#E5ECF6",
           "caxis": {
            "gridcolor": "white",
            "linecolor": "white",
            "ticks": ""
           }
          },
          "title": {
           "x": 0.05
          },
          "xaxis": {
           "automargin": true,
           "gridcolor": "white",
           "linecolor": "white",
           "ticks": "",
           "title": {
            "standoff": 15
           },
           "zerolinecolor": "white",
           "zerolinewidth": 2
          },
          "yaxis": {
           "automargin": true,
           "gridcolor": "white",
           "linecolor": "white",
           "ticks": "",
           "title": {
            "standoff": 15
           },
           "zerolinecolor": "white",
           "zerolinewidth": 2
          }
         }
        },
        "xaxis": {
         "anchor": "y",
         "domain": [
          0,
          1
         ],
         "title": {
          "text": "Priority"
         }
        },
        "yaxis": {
         "anchor": "x",
         "domain": [
          0,
          1
         ],
         "title": {
          "text": "Costs"
         }
        }
       }
      }
     },
     "metadata": {},
     "output_type": "display_data"
    }
   ],
   "source": [
    "fig = px.bar(df, x='Priority', y=\"Costs\", color='Campaing')\n",
    "fig.show()"
   ]
  },
  {
   "cell_type": "code",
   "execution_count": 55,
   "metadata": {},
   "outputs": [],
   "source": [
    "\n",
    "from plotly import graph_objects as go"
   ]
  },
  {
   "cell_type": "code",
   "execution_count": 56,
   "metadata": {},
   "outputs": [
    {
     "data": {
      "application/vnd.plotly.v1+json": {
       "config": {
        "plotlyServerURL": "https://plot.ly"
       },
       "data": [
        {
         "connector": {
          "line": {
           "color": "royalblue",
           "dash": "dot",
           "width": 3
          }
         },
         "marker": {
          "color": [
           "deepskyblue",
           "lightsalmon",
           "tan",
           "teal"
          ],
          "line": {
           "color": [
            "wheat",
            "blue",
            "wheat",
            "wheat"
           ],
           "width": [
            4,
            2,
            3,
            1
           ]
          }
         },
         "opacity": 0.65,
         "textinfo": "value+percent initial",
         "type": "funnel",
         "x": [
          47,
          37,
          9,
          7
         ],
         "y": [
          "Prospects",
          "Qualified Prospects",
          "Proposals",
          "New"
         ]
        }
       ],
       "layout": {
        "template": {
         "data": {
          "bar": [
           {
            "error_x": {
             "color": "#2a3f5f"
            },
            "error_y": {
             "color": "#2a3f5f"
            },
            "marker": {
             "line": {
              "color": "#E5ECF6",
              "width": 0.5
             }
            },
            "type": "bar"
           }
          ],
          "barpolar": [
           {
            "marker": {
             "line": {
              "color": "#E5ECF6",
              "width": 0.5
             }
            },
            "type": "barpolar"
           }
          ],
          "carpet": [
           {
            "aaxis": {
             "endlinecolor": "#2a3f5f",
             "gridcolor": "white",
             "linecolor": "white",
             "minorgridcolor": "white",
             "startlinecolor": "#2a3f5f"
            },
            "baxis": {
             "endlinecolor": "#2a3f5f",
             "gridcolor": "white",
             "linecolor": "white",
             "minorgridcolor": "white",
             "startlinecolor": "#2a3f5f"
            },
            "type": "carpet"
           }
          ],
          "choropleth": [
           {
            "colorbar": {
             "outlinewidth": 0,
             "ticks": ""
            },
            "type": "choropleth"
           }
          ],
          "contour": [
           {
            "colorbar": {
             "outlinewidth": 0,
             "ticks": ""
            },
            "colorscale": [
             [
              0,
              "#0d0887"
             ],
             [
              0.1111111111111111,
              "#46039f"
             ],
             [
              0.2222222222222222,
              "#7201a8"
             ],
             [
              0.3333333333333333,
              "#9c179e"
             ],
             [
              0.4444444444444444,
              "#bd3786"
             ],
             [
              0.5555555555555556,
              "#d8576b"
             ],
             [
              0.6666666666666666,
              "#ed7953"
             ],
             [
              0.7777777777777778,
              "#fb9f3a"
             ],
             [
              0.8888888888888888,
              "#fdca26"
             ],
             [
              1,
              "#f0f921"
             ]
            ],
            "type": "contour"
           }
          ],
          "contourcarpet": [
           {
            "colorbar": {
             "outlinewidth": 0,
             "ticks": ""
            },
            "type": "contourcarpet"
           }
          ],
          "heatmap": [
           {
            "colorbar": {
             "outlinewidth": 0,
             "ticks": ""
            },
            "colorscale": [
             [
              0,
              "#0d0887"
             ],
             [
              0.1111111111111111,
              "#46039f"
             ],
             [
              0.2222222222222222,
              "#7201a8"
             ],
             [
              0.3333333333333333,
              "#9c179e"
             ],
             [
              0.4444444444444444,
              "#bd3786"
             ],
             [
              0.5555555555555556,
              "#d8576b"
             ],
             [
              0.6666666666666666,
              "#ed7953"
             ],
             [
              0.7777777777777778,
              "#fb9f3a"
             ],
             [
              0.8888888888888888,
              "#fdca26"
             ],
             [
              1,
              "#f0f921"
             ]
            ],
            "type": "heatmap"
           }
          ],
          "heatmapgl": [
           {
            "colorbar": {
             "outlinewidth": 0,
             "ticks": ""
            },
            "colorscale": [
             [
              0,
              "#0d0887"
             ],
             [
              0.1111111111111111,
              "#46039f"
             ],
             [
              0.2222222222222222,
              "#7201a8"
             ],
             [
              0.3333333333333333,
              "#9c179e"
             ],
             [
              0.4444444444444444,
              "#bd3786"
             ],
             [
              0.5555555555555556,
              "#d8576b"
             ],
             [
              0.6666666666666666,
              "#ed7953"
             ],
             [
              0.7777777777777778,
              "#fb9f3a"
             ],
             [
              0.8888888888888888,
              "#fdca26"
             ],
             [
              1,
              "#f0f921"
             ]
            ],
            "type": "heatmapgl"
           }
          ],
          "histogram": [
           {
            "marker": {
             "colorbar": {
              "outlinewidth": 0,
              "ticks": ""
             }
            },
            "type": "histogram"
           }
          ],
          "histogram2d": [
           {
            "colorbar": {
             "outlinewidth": 0,
             "ticks": ""
            },
            "colorscale": [
             [
              0,
              "#0d0887"
             ],
             [
              0.1111111111111111,
              "#46039f"
             ],
             [
              0.2222222222222222,
              "#7201a8"
             ],
             [
              0.3333333333333333,
              "#9c179e"
             ],
             [
              0.4444444444444444,
              "#bd3786"
             ],
             [
              0.5555555555555556,
              "#d8576b"
             ],
             [
              0.6666666666666666,
              "#ed7953"
             ],
             [
              0.7777777777777778,
              "#fb9f3a"
             ],
             [
              0.8888888888888888,
              "#fdca26"
             ],
             [
              1,
              "#f0f921"
             ]
            ],
            "type": "histogram2d"
           }
          ],
          "histogram2dcontour": [
           {
            "colorbar": {
             "outlinewidth": 0,
             "ticks": ""
            },
            "colorscale": [
             [
              0,
              "#0d0887"
             ],
             [
              0.1111111111111111,
              "#46039f"
             ],
             [
              0.2222222222222222,
              "#7201a8"
             ],
             [
              0.3333333333333333,
              "#9c179e"
             ],
             [
              0.4444444444444444,
              "#bd3786"
             ],
             [
              0.5555555555555556,
              "#d8576b"
             ],
             [
              0.6666666666666666,
              "#ed7953"
             ],
             [
              0.7777777777777778,
              "#fb9f3a"
             ],
             [
              0.8888888888888888,
              "#fdca26"
             ],
             [
              1,
              "#f0f921"
             ]
            ],
            "type": "histogram2dcontour"
           }
          ],
          "mesh3d": [
           {
            "colorbar": {
             "outlinewidth": 0,
             "ticks": ""
            },
            "type": "mesh3d"
           }
          ],
          "parcoords": [
           {
            "line": {
             "colorbar": {
              "outlinewidth": 0,
              "ticks": ""
             }
            },
            "type": "parcoords"
           }
          ],
          "pie": [
           {
            "automargin": true,
            "type": "pie"
           }
          ],
          "scatter": [
           {
            "marker": {
             "colorbar": {
              "outlinewidth": 0,
              "ticks": ""
             }
            },
            "type": "scatter"
           }
          ],
          "scatter3d": [
           {
            "line": {
             "colorbar": {
              "outlinewidth": 0,
              "ticks": ""
             }
            },
            "marker": {
             "colorbar": {
              "outlinewidth": 0,
              "ticks": ""
             }
            },
            "type": "scatter3d"
           }
          ],
          "scattercarpet": [
           {
            "marker": {
             "colorbar": {
              "outlinewidth": 0,
              "ticks": ""
             }
            },
            "type": "scattercarpet"
           }
          ],
          "scattergeo": [
           {
            "marker": {
             "colorbar": {
              "outlinewidth": 0,
              "ticks": ""
             }
            },
            "type": "scattergeo"
           }
          ],
          "scattergl": [
           {
            "marker": {
             "colorbar": {
              "outlinewidth": 0,
              "ticks": ""
             }
            },
            "type": "scattergl"
           }
          ],
          "scattermapbox": [
           {
            "marker": {
             "colorbar": {
              "outlinewidth": 0,
              "ticks": ""
             }
            },
            "type": "scattermapbox"
           }
          ],
          "scatterpolar": [
           {
            "marker": {
             "colorbar": {
              "outlinewidth": 0,
              "ticks": ""
             }
            },
            "type": "scatterpolar"
           }
          ],
          "scatterpolargl": [
           {
            "marker": {
             "colorbar": {
              "outlinewidth": 0,
              "ticks": ""
             }
            },
            "type": "scatterpolargl"
           }
          ],
          "scatterternary": [
           {
            "marker": {
             "colorbar": {
              "outlinewidth": 0,
              "ticks": ""
             }
            },
            "type": "scatterternary"
           }
          ],
          "surface": [
           {
            "colorbar": {
             "outlinewidth": 0,
             "ticks": ""
            },
            "colorscale": [
             [
              0,
              "#0d0887"
             ],
             [
              0.1111111111111111,
              "#46039f"
             ],
             [
              0.2222222222222222,
              "#7201a8"
             ],
             [
              0.3333333333333333,
              "#9c179e"
             ],
             [
              0.4444444444444444,
              "#bd3786"
             ],
             [
              0.5555555555555556,
              "#d8576b"
             ],
             [
              0.6666666666666666,
              "#ed7953"
             ],
             [
              0.7777777777777778,
              "#fb9f3a"
             ],
             [
              0.8888888888888888,
              "#fdca26"
             ],
             [
              1,
              "#f0f921"
             ]
            ],
            "type": "surface"
           }
          ],
          "table": [
           {
            "cells": {
             "fill": {
              "color": "#EBF0F8"
             },
             "line": {
              "color": "white"
             }
            },
            "header": {
             "fill": {
              "color": "#C8D4E3"
             },
             "line": {
              "color": "white"
             }
            },
            "type": "table"
           }
          ]
         },
         "layout": {
          "annotationdefaults": {
           "arrowcolor": "#2a3f5f",
           "arrowhead": 0,
           "arrowwidth": 1
          },
          "coloraxis": {
           "colorbar": {
            "outlinewidth": 0,
            "ticks": ""
           }
          },
          "colorscale": {
           "diverging": [
            [
             0,
             "#8e0152"
            ],
            [
             0.1,
             "#c51b7d"
            ],
            [
             0.2,
             "#de77ae"
            ],
            [
             0.3,
             "#f1b6da"
            ],
            [
             0.4,
             "#fde0ef"
            ],
            [
             0.5,
             "#f7f7f7"
            ],
            [
             0.6,
             "#e6f5d0"
            ],
            [
             0.7,
             "#b8e186"
            ],
            [
             0.8,
             "#7fbc41"
            ],
            [
             0.9,
             "#4d9221"
            ],
            [
             1,
             "#276419"
            ]
           ],
           "sequential": [
            [
             0,
             "#0d0887"
            ],
            [
             0.1111111111111111,
             "#46039f"
            ],
            [
             0.2222222222222222,
             "#7201a8"
            ],
            [
             0.3333333333333333,
             "#9c179e"
            ],
            [
             0.4444444444444444,
             "#bd3786"
            ],
            [
             0.5555555555555556,
             "#d8576b"
            ],
            [
             0.6666666666666666,
             "#ed7953"
            ],
            [
             0.7777777777777778,
             "#fb9f3a"
            ],
            [
             0.8888888888888888,
             "#fdca26"
            ],
            [
             1,
             "#f0f921"
            ]
           ],
           "sequentialminus": [
            [
             0,
             "#0d0887"
            ],
            [
             0.1111111111111111,
             "#46039f"
            ],
            [
             0.2222222222222222,
             "#7201a8"
            ],
            [
             0.3333333333333333,
             "#9c179e"
            ],
            [
             0.4444444444444444,
             "#bd3786"
            ],
            [
             0.5555555555555556,
             "#d8576b"
            ],
            [
             0.6666666666666666,
             "#ed7953"
            ],
            [
             0.7777777777777778,
             "#fb9f3a"
            ],
            [
             0.8888888888888888,
             "#fdca26"
            ],
            [
             1,
             "#f0f921"
            ]
           ]
          },
          "colorway": [
           "#636efa",
           "#EF553B",
           "#00cc96",
           "#ab63fa",
           "#FFA15A",
           "#19d3f3",
           "#FF6692",
           "#B6E880",
           "#FF97FF",
           "#FECB52"
          ],
          "font": {
           "color": "#2a3f5f"
          },
          "geo": {
           "bgcolor": "white",
           "lakecolor": "white",
           "landcolor": "#E5ECF6",
           "showlakes": true,
           "showland": true,
           "subunitcolor": "white"
          },
          "hoverlabel": {
           "align": "left"
          },
          "hovermode": "closest",
          "mapbox": {
           "style": "light"
          },
          "paper_bgcolor": "white",
          "plot_bgcolor": "#E5ECF6",
          "polar": {
           "angularaxis": {
            "gridcolor": "white",
            "linecolor": "white",
            "ticks": ""
           },
           "bgcolor": "#E5ECF6",
           "radialaxis": {
            "gridcolor": "white",
            "linecolor": "white",
            "ticks": ""
           }
          },
          "scene": {
           "xaxis": {
            "backgroundcolor": "#E5ECF6",
            "gridcolor": "white",
            "gridwidth": 2,
            "linecolor": "white",
            "showbackground": true,
            "ticks": "",
            "zerolinecolor": "white"
           },
           "yaxis": {
            "backgroundcolor": "#E5ECF6",
            "gridcolor": "white",
            "gridwidth": 2,
            "linecolor": "white",
            "showbackground": true,
            "ticks": "",
            "zerolinecolor": "white"
           },
           "zaxis": {
            "backgroundcolor": "#E5ECF6",
            "gridcolor": "white",
            "gridwidth": 2,
            "linecolor": "white",
            "showbackground": true,
            "ticks": "",
            "zerolinecolor": "white"
           }
          },
          "shapedefaults": {
           "line": {
            "color": "#2a3f5f"
           }
          },
          "ternary": {
           "aaxis": {
            "gridcolor": "white",
            "linecolor": "white",
            "ticks": ""
           },
           "baxis": {
            "gridcolor": "white",
            "linecolor": "white",
            "ticks": ""
           },
           "bgcolor": "#E5ECF6",
           "caxis": {
            "gridcolor": "white",
            "linecolor": "white",
            "ticks": ""
           }
          },
          "title": {
           "x": 0.05
          },
          "xaxis": {
           "automargin": true,
           "gridcolor": "white",
           "linecolor": "white",
           "ticks": "",
           "title": {
            "standoff": 15
           },
           "zerolinecolor": "white",
           "zerolinewidth": 2
          },
          "yaxis": {
           "automargin": true,
           "gridcolor": "white",
           "linecolor": "white",
           "ticks": "",
           "title": {
            "standoff": 15
           },
           "zerolinecolor": "white",
           "zerolinewidth": 2
          }
         }
        }
       }
      }
     },
     "metadata": {},
     "output_type": "display_data"
    }
   ],
   "source": [
    "\n",
    "fig = go.Figure(go.Funnel(\n",
    "\n",
    "    y=df[\"Funnel\"].value_counts().index,\n",
    "    x=df[\"Funnel\"].value_counts().values,\n",
    "    #textposition=\"inside\",\n",
    "    textinfo=\"value+percent initial\",\n",
    "    opacity=0.65, marker={\"color\": [\"deepskyblue\", \"lightsalmon\", \"tan\", \"teal\"],\n",
    "                          \"line\": {\"width\": [4, 2, 3, 1], \"color\": [\"wheat\", \"blue\", \"wheat\", \"wheat\"]}},\n",
    "    connector={\"line\": {\"color\": \"royalblue\", \"dash\": \"dot\", \"width\": 3}})\n",
    ")\n",
    "fig.show()\n"
   ]
  },
  {
   "cell_type": "code",
   "execution_count": 49,
   "metadata": {},
   "outputs": [
    {
     "data": {
      "application/vnd.plotly.v1+json": {
       "config": {
        "plotlyServerURL": "https://plot.ly"
       },
       "data": [
        {
         "hoverlabel": {
          "namelength": 0
         },
         "hovertemplate": "Funnel=%{x}<br>index=%{y}",
         "legendgroup": "",
         "marker": {
          "color": "#636efa"
         },
         "name": "",
         "orientation": "h",
         "showlegend": false,
         "type": "funnel",
         "x": [
          65,
          25,
          7,
          3
         ],
         "xaxis": "x",
         "y": [
          "Prospects",
          "Qualified Prospects",
          "Proposals",
          "New"
         ],
         "yaxis": "y"
        }
       ],
       "layout": {
        "legend": {
         "tracegroupgap": 0
        },
        "margin": {
         "t": 60
        },
        "template": {
         "data": {
          "bar": [
           {
            "error_x": {
             "color": "#2a3f5f"
            },
            "error_y": {
             "color": "#2a3f5f"
            },
            "marker": {
             "line": {
              "color": "#E5ECF6",
              "width": 0.5
             }
            },
            "type": "bar"
           }
          ],
          "barpolar": [
           {
            "marker": {
             "line": {
              "color": "#E5ECF6",
              "width": 0.5
             }
            },
            "type": "barpolar"
           }
          ],
          "carpet": [
           {
            "aaxis": {
             "endlinecolor": "#2a3f5f",
             "gridcolor": "white",
             "linecolor": "white",
             "minorgridcolor": "white",
             "startlinecolor": "#2a3f5f"
            },
            "baxis": {
             "endlinecolor": "#2a3f5f",
             "gridcolor": "white",
             "linecolor": "white",
             "minorgridcolor": "white",
             "startlinecolor": "#2a3f5f"
            },
            "type": "carpet"
           }
          ],
          "choropleth": [
           {
            "colorbar": {
             "outlinewidth": 0,
             "ticks": ""
            },
            "type": "choropleth"
           }
          ],
          "contour": [
           {
            "colorbar": {
             "outlinewidth": 0,
             "ticks": ""
            },
            "colorscale": [
             [
              0,
              "#0d0887"
             ],
             [
              0.1111111111111111,
              "#46039f"
             ],
             [
              0.2222222222222222,
              "#7201a8"
             ],
             [
              0.3333333333333333,
              "#9c179e"
             ],
             [
              0.4444444444444444,
              "#bd3786"
             ],
             [
              0.5555555555555556,
              "#d8576b"
             ],
             [
              0.6666666666666666,
              "#ed7953"
             ],
             [
              0.7777777777777778,
              "#fb9f3a"
             ],
             [
              0.8888888888888888,
              "#fdca26"
             ],
             [
              1,
              "#f0f921"
             ]
            ],
            "type": "contour"
           }
          ],
          "contourcarpet": [
           {
            "colorbar": {
             "outlinewidth": 0,
             "ticks": ""
            },
            "type": "contourcarpet"
           }
          ],
          "heatmap": [
           {
            "colorbar": {
             "outlinewidth": 0,
             "ticks": ""
            },
            "colorscale": [
             [
              0,
              "#0d0887"
             ],
             [
              0.1111111111111111,
              "#46039f"
             ],
             [
              0.2222222222222222,
              "#7201a8"
             ],
             [
              0.3333333333333333,
              "#9c179e"
             ],
             [
              0.4444444444444444,
              "#bd3786"
             ],
             [
              0.5555555555555556,
              "#d8576b"
             ],
             [
              0.6666666666666666,
              "#ed7953"
             ],
             [
              0.7777777777777778,
              "#fb9f3a"
             ],
             [
              0.8888888888888888,
              "#fdca26"
             ],
             [
              1,
              "#f0f921"
             ]
            ],
            "type": "heatmap"
           }
          ],
          "heatmapgl": [
           {
            "colorbar": {
             "outlinewidth": 0,
             "ticks": ""
            },
            "colorscale": [
             [
              0,
              "#0d0887"
             ],
             [
              0.1111111111111111,
              "#46039f"
             ],
             [
              0.2222222222222222,
              "#7201a8"
             ],
             [
              0.3333333333333333,
              "#9c179e"
             ],
             [
              0.4444444444444444,
              "#bd3786"
             ],
             [
              0.5555555555555556,
              "#d8576b"
             ],
             [
              0.6666666666666666,
              "#ed7953"
             ],
             [
              0.7777777777777778,
              "#fb9f3a"
             ],
             [
              0.8888888888888888,
              "#fdca26"
             ],
             [
              1,
              "#f0f921"
             ]
            ],
            "type": "heatmapgl"
           }
          ],
          "histogram": [
           {
            "marker": {
             "colorbar": {
              "outlinewidth": 0,
              "ticks": ""
             }
            },
            "type": "histogram"
           }
          ],
          "histogram2d": [
           {
            "colorbar": {
             "outlinewidth": 0,
             "ticks": ""
            },
            "colorscale": [
             [
              0,
              "#0d0887"
             ],
             [
              0.1111111111111111,
              "#46039f"
             ],
             [
              0.2222222222222222,
              "#7201a8"
             ],
             [
              0.3333333333333333,
              "#9c179e"
             ],
             [
              0.4444444444444444,
              "#bd3786"
             ],
             [
              0.5555555555555556,
              "#d8576b"
             ],
             [
              0.6666666666666666,
              "#ed7953"
             ],
             [
              0.7777777777777778,
              "#fb9f3a"
             ],
             [
              0.8888888888888888,
              "#fdca26"
             ],
             [
              1,
              "#f0f921"
             ]
            ],
            "type": "histogram2d"
           }
          ],
          "histogram2dcontour": [
           {
            "colorbar": {
             "outlinewidth": 0,
             "ticks": ""
            },
            "colorscale": [
             [
              0,
              "#0d0887"
             ],
             [
              0.1111111111111111,
              "#46039f"
             ],
             [
              0.2222222222222222,
              "#7201a8"
             ],
             [
              0.3333333333333333,
              "#9c179e"
             ],
             [
              0.4444444444444444,
              "#bd3786"
             ],
             [
              0.5555555555555556,
              "#d8576b"
             ],
             [
              0.6666666666666666,
              "#ed7953"
             ],
             [
              0.7777777777777778,
              "#fb9f3a"
             ],
             [
              0.8888888888888888,
              "#fdca26"
             ],
             [
              1,
              "#f0f921"
             ]
            ],
            "type": "histogram2dcontour"
           }
          ],
          "mesh3d": [
           {
            "colorbar": {
             "outlinewidth": 0,
             "ticks": ""
            },
            "type": "mesh3d"
           }
          ],
          "parcoords": [
           {
            "line": {
             "colorbar": {
              "outlinewidth": 0,
              "ticks": ""
             }
            },
            "type": "parcoords"
           }
          ],
          "pie": [
           {
            "automargin": true,
            "type": "pie"
           }
          ],
          "scatter": [
           {
            "marker": {
             "colorbar": {
              "outlinewidth": 0,
              "ticks": ""
             }
            },
            "type": "scatter"
           }
          ],
          "scatter3d": [
           {
            "line": {
             "colorbar": {
              "outlinewidth": 0,
              "ticks": ""
             }
            },
            "marker": {
             "colorbar": {
              "outlinewidth": 0,
              "ticks": ""
             }
            },
            "type": "scatter3d"
           }
          ],
          "scattercarpet": [
           {
            "marker": {
             "colorbar": {
              "outlinewidth": 0,
              "ticks": ""
             }
            },
            "type": "scattercarpet"
           }
          ],
          "scattergeo": [
           {
            "marker": {
             "colorbar": {
              "outlinewidth": 0,
              "ticks": ""
             }
            },
            "type": "scattergeo"
           }
          ],
          "scattergl": [
           {
            "marker": {
             "colorbar": {
              "outlinewidth": 0,
              "ticks": ""
             }
            },
            "type": "scattergl"
           }
          ],
          "scattermapbox": [
           {
            "marker": {
             "colorbar": {
              "outlinewidth": 0,
              "ticks": ""
             }
            },
            "type": "scattermapbox"
           }
          ],
          "scatterpolar": [
           {
            "marker": {
             "colorbar": {
              "outlinewidth": 0,
              "ticks": ""
             }
            },
            "type": "scatterpolar"
           }
          ],
          "scatterpolargl": [
           {
            "marker": {
             "colorbar": {
              "outlinewidth": 0,
              "ticks": ""
             }
            },
            "type": "scatterpolargl"
           }
          ],
          "scatterternary": [
           {
            "marker": {
             "colorbar": {
              "outlinewidth": 0,
              "ticks": ""
             }
            },
            "type": "scatterternary"
           }
          ],
          "surface": [
           {
            "colorbar": {
             "outlinewidth": 0,
             "ticks": ""
            },
            "colorscale": [
             [
              0,
              "#0d0887"
             ],
             [
              0.1111111111111111,
              "#46039f"
             ],
             [
              0.2222222222222222,
              "#7201a8"
             ],
             [
              0.3333333333333333,
              "#9c179e"
             ],
             [
              0.4444444444444444,
              "#bd3786"
             ],
             [
              0.5555555555555556,
              "#d8576b"
             ],
             [
              0.6666666666666666,
              "#ed7953"
             ],
             [
              0.7777777777777778,
              "#fb9f3a"
             ],
             [
              0.8888888888888888,
              "#fdca26"
             ],
             [
              1,
              "#f0f921"
             ]
            ],
            "type": "surface"
           }
          ],
          "table": [
           {
            "cells": {
             "fill": {
              "color": "#EBF0F8"
             },
             "line": {
              "color": "white"
             }
            },
            "header": {
             "fill": {
              "color": "#C8D4E3"
             },
             "line": {
              "color": "white"
             }
            },
            "type": "table"
           }
          ]
         },
         "layout": {
          "annotationdefaults": {
           "arrowcolor": "#2a3f5f",
           "arrowhead": 0,
           "arrowwidth": 1
          },
          "coloraxis": {
           "colorbar": {
            "outlinewidth": 0,
            "ticks": ""
           }
          },
          "colorscale": {
           "diverging": [
            [
             0,
             "#8e0152"
            ],
            [
             0.1,
             "#c51b7d"
            ],
            [
             0.2,
             "#de77ae"
            ],
            [
             0.3,
             "#f1b6da"
            ],
            [
             0.4,
             "#fde0ef"
            ],
            [
             0.5,
             "#f7f7f7"
            ],
            [
             0.6,
             "#e6f5d0"
            ],
            [
             0.7,
             "#b8e186"
            ],
            [
             0.8,
             "#7fbc41"
            ],
            [
             0.9,
             "#4d9221"
            ],
            [
             1,
             "#276419"
            ]
           ],
           "sequential": [
            [
             0,
             "#0d0887"
            ],
            [
             0.1111111111111111,
             "#46039f"
            ],
            [
             0.2222222222222222,
             "#7201a8"
            ],
            [
             0.3333333333333333,
             "#9c179e"
            ],
            [
             0.4444444444444444,
             "#bd3786"
            ],
            [
             0.5555555555555556,
             "#d8576b"
            ],
            [
             0.6666666666666666,
             "#ed7953"
            ],
            [
             0.7777777777777778,
             "#fb9f3a"
            ],
            [
             0.8888888888888888,
             "#fdca26"
            ],
            [
             1,
             "#f0f921"
            ]
           ],
           "sequentialminus": [
            [
             0,
             "#0d0887"
            ],
            [
             0.1111111111111111,
             "#46039f"
            ],
            [
             0.2222222222222222,
             "#7201a8"
            ],
            [
             0.3333333333333333,
             "#9c179e"
            ],
            [
             0.4444444444444444,
             "#bd3786"
            ],
            [
             0.5555555555555556,
             "#d8576b"
            ],
            [
             0.6666666666666666,
             "#ed7953"
            ],
            [
             0.7777777777777778,
             "#fb9f3a"
            ],
            [
             0.8888888888888888,
             "#fdca26"
            ],
            [
             1,
             "#f0f921"
            ]
           ]
          },
          "colorway": [
           "#636efa",
           "#EF553B",
           "#00cc96",
           "#ab63fa",
           "#FFA15A",
           "#19d3f3",
           "#FF6692",
           "#B6E880",
           "#FF97FF",
           "#FECB52"
          ],
          "font": {
           "color": "#2a3f5f"
          },
          "geo": {
           "bgcolor": "white",
           "lakecolor": "white",
           "landcolor": "#E5ECF6",
           "showlakes": true,
           "showland": true,
           "subunitcolor": "white"
          },
          "hoverlabel": {
           "align": "left"
          },
          "hovermode": "closest",
          "mapbox": {
           "style": "light"
          },
          "paper_bgcolor": "white",
          "plot_bgcolor": "#E5ECF6",
          "polar": {
           "angularaxis": {
            "gridcolor": "white",
            "linecolor": "white",
            "ticks": ""
           },
           "bgcolor": "#E5ECF6",
           "radialaxis": {
            "gridcolor": "white",
            "linecolor": "white",
            "ticks": ""
           }
          },
          "scene": {
           "xaxis": {
            "backgroundcolor": "#E5ECF6",
            "gridcolor": "white",
            "gridwidth": 2,
            "linecolor": "white",
            "showbackground": true,
            "ticks": "",
            "zerolinecolor": "white"
           },
           "yaxis": {
            "backgroundcolor": "#E5ECF6",
            "gridcolor": "white",
            "gridwidth": 2,
            "linecolor": "white",
            "showbackground": true,
            "ticks": "",
            "zerolinecolor": "white"
           },
           "zaxis": {
            "backgroundcolor": "#E5ECF6",
            "gridcolor": "white",
            "gridwidth": 2,
            "linecolor": "white",
            "showbackground": true,
            "ticks": "",
            "zerolinecolor": "white"
           }
          },
          "shapedefaults": {
           "line": {
            "color": "#2a3f5f"
           }
          },
          "ternary": {
           "aaxis": {
            "gridcolor": "white",
            "linecolor": "white",
            "ticks": ""
           },
           "baxis": {
            "gridcolor": "white",
            "linecolor": "white",
            "ticks": ""
           },
           "bgcolor": "#E5ECF6",
           "caxis": {
            "gridcolor": "white",
            "linecolor": "white",
            "ticks": ""
           }
          },
          "title": {
           "x": 0.05
          },
          "xaxis": {
           "automargin": true,
           "gridcolor": "white",
           "linecolor": "white",
           "ticks": "",
           "title": {
            "standoff": 15
           },
           "zerolinecolor": "white",
           "zerolinewidth": 2
          },
          "yaxis": {
           "automargin": true,
           "gridcolor": "white",
           "linecolor": "white",
           "ticks": "",
           "title": {
            "standoff": 15
           },
           "zerolinecolor": "white",
           "zerolinewidth": 2
          }
         }
        },
        "xaxis": {
         "anchor": "y",
         "domain": [
          0,
          1
         ]
        },
        "yaxis": {
         "anchor": "x",
         "domain": [
          0,
          1
         ]
        }
       }
      }
     },
     "metadata": {},
     "output_type": "display_data"
    }
   ],
   "source": [
    "tmp = df[\"Funnel\"].value_counts().reset_index()\n",
    "import plotly_express as px\n",
    "fig = px.funnel(tmp, x='Funnel', y='index')\n",
    "fig"
   ]
  },
  {
   "cell_type": "code",
   "execution_count": null,
   "metadata": {},
   "outputs": [],
   "source": []
  },
  {
   "cell_type": "code",
   "execution_count": null,
   "metadata": {},
   "outputs": [],
   "source": [
    "def price_and_freight():\n",
    "    salary = round(random.randint(90000,120000)/1000)*1000\n",
    "    bonus_ratio = random.uniform(0.15,0.2)\n",
    "    bonus = round(salary*bonus_ratio/500)*500\n",
    "    return {'price':salary,'freight':bonus}"
   ]
  },
  {
   "cell_type": "code",
   "execution_count": null,
   "metadata": {},
   "outputs": [],
   "source": [
    "for i in range(15):\n",
    "    print(price_and_freight())"
   ]
  },
  {
   "cell_type": "code",
   "execution_count": 4,
   "metadata": {},
   "outputs": [],
   "source": [
    "df = pd.read_csv(\n",
    "    \"marketing_data.csv\", sep=\",\", index_col=[0])\n"
   ]
  },
  {
   "cell_type": "code",
   "execution_count": 12,
   "metadata": {},
   "outputs": [
    {
     "data": {
      "text/plain": [
       "array(['Product1', 'Product2', 'Product3'], dtype=object)"
      ]
     },
     "execution_count": 12,
     "metadata": {},
     "output_type": "execute_result"
    }
   ],
   "source": [
    "df[df['Funnel'] == \"Prospects\"]['Products'].value_counts().sort_index().reset_index()['index'].values"
   ]
  },
  {
   "cell_type": "code",
   "execution_count": 13,
   "metadata": {},
   "outputs": [
    {
     "data": {
      "text/plain": [
       "array([ 9, 19, 19])"
      ]
     },
     "execution_count": 13,
     "metadata": {},
     "output_type": "execute_result"
    }
   ],
   "source": [
    "df[df['Funnel'] == \"Prospects\"]['Products'].value_counts().sort_index().reset_index()['Products'].values"
   ]
  },
  {
   "cell_type": "code",
   "execution_count": null,
   "metadata": {},
   "outputs": [],
   "source": []
  }
 ],
 "metadata": {
  "kernelspec": {
   "display_name": "Python 3.7.4 64-bit ('tf_gpu2': conda)",
   "language": "python",
   "name": "python37464bittfgpu2conda6e12222cc6934856b508ad1c5e99e82e"
  },
  "language_info": {
   "codemirror_mode": {
    "name": "ipython",
    "version": 3
   },
   "file_extension": ".py",
   "mimetype": "text/x-python",
   "name": "python",
   "nbconvert_exporter": "python",
   "pygments_lexer": "ipython3",
   "version": "3.7.6"
  }
 },
 "nbformat": 4,
 "nbformat_minor": 4
}
